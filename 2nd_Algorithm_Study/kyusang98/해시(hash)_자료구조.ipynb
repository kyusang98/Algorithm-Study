{
  "nbformat": 4,
  "nbformat_minor": 0,
  "metadata": {
    "colab": {
      "provenance": []
    },
    "kernelspec": {
      "name": "python3",
      "display_name": "Python 3"
    },
    "language_info": {
      "name": "python"
    }
  },
  "cells": [
    {
      "cell_type": "markdown",
      "source": [
        "#hash 자료구조\n",
        "Key : Value로 나누어서\n",
        "마치 딕셔너리랑 비슷하게 저장해 놓는 것이다."
      ],
      "metadata": {
        "id": "PUtgUbEgJVaE"
      }
    },
    {
      "cell_type": "markdown",
      "source": [
        "#알고리즘 문제"
      ],
      "metadata": {
        "id": "va-C6BjGr_7r"
      }
    },
    {
      "cell_type": "markdown",
      "source": [
        "당신은 폰켓몬을 잡기 위한 오랜 여행 끝에, 홍 박사님의 연구실에 도착했습니다. 홍 박사님은 당신에게 자신의 연구실에 있는 총 N 마리의 폰켓몬 중에서 N/2마리를 가져가도 좋다고 했습니다.\n",
        "홍 박사님 연구실의 폰켓몬은 종류에 따라 번호를 붙여 구분합니다. 따라서 같은 종류의 폰켓몬은 같은 번호를 가지고 있습니다. 예를 들어 연구실에 총 4마리의 폰켓몬이 있고, 각 폰켓몬의 종류 번호가 [3번, 1번, 2번, 3번]이라면 이는 3번 폰켓몬 두 마리, 1번 폰켓몬 한 마리, 2번 폰켓몬 한 마리가 있음을 나타냅니다. 이때, 4마리의 폰켓몬 중 2마리를 고르는 방법은 다음과 같이 6가지가 있습니다.\n",
        "\n",
        "첫 번째(3번), 두 번째(1번) 폰켓몬을 선택\n",
        "첫 번째(3번), 세 번째(2번) 폰켓몬을 선택\n",
        "첫 번째(3번), 네 번째(3번) 폰켓몬을 선택\n",
        "두 번째(1번), 세 번째(2번) 폰켓몬을 선택\n",
        "두 번째(1번), 네 번째(3번) 폰켓몬을 선택\n",
        "세 번째(2번), 네 번째(3번) 폰켓몬을 선택\n",
        "이때, 첫 번째(3번) 폰켓몬과 네 번째(3번) 폰켓몬을 선택하는 방법은 한 종류(3번 폰켓몬 두 마리)의 폰켓몬만 가질 수 있지만, 다른 방법들은 모두 두 종류의 폰켓몬을 가질 수 있습니다. 따라서 위 예시에서 가질 수 있는 폰켓몬 종류 수의 최댓값은 2가 됩니다.\n",
        "당신은 최대한 다양한 종류의 폰켓몬을 가지길 원하기 때문에, 최대한 많은 종류의 폰켓몬을 포함해서 N/2마리를 선택하려 합니다. N마리 폰켓몬의 종류 번호가 담긴 배열 nums가 매개변수로 주어질 때, N/2마리의 폰켓몬을 선택하는 방법 중, 가장 많은 종류의 폰켓몬을 선택하는 방법을 찾아, 그때의 폰켓몬 종류 번호의 개수를 return 하도록 solution 함수를 완성해주세요.\n",
        "\n",
        "제한사항\n",
        "nums는 폰켓몬의 종류 번호가 담긴 1차원 배열입니다.\n",
        "nums의 길이(N)는 1 이상 10,000 이하의 자연수이며, 항상 짝수로 주어집니다.\n",
        "폰켓몬의 종류 번호는 1 이상 200,000 이하의 자연수로 나타냅니다.\n",
        "가장 많은 종류의 폰켓몬을 선택하는 방법이 여러 가지인 경우에도, 선택할 수 있는 폰켓몬 종류 개수의 최댓값 하나만 return 하면 됩니다.\n"
      ],
      "metadata": {
        "id": "5bJwWEr3sJdv"
      }
    },
    {
      "cell_type": "code",
      "source": [
        "def solution(nums):\n",
        "    \n",
        "    #최대 종류수는 많아봤자 N//2개 이하이다.\n",
        "    \n",
        "    pick = len(nums)//2 #선택할 개수 \n",
        "    kind = set(nums)    #포켓몬의 종류수\n",
        "    \n",
        "    \n",
        "    if len(kind)<=pick:\n",
        "        answer=len(kind)\n",
        "    else:\n",
        "        answer=pick\n",
        "\n",
        "    return answer"
      ],
      "metadata": {
        "id": "_QdzFgCSreqE"
      },
      "execution_count": null,
      "outputs": []
    },
    {
      "cell_type": "markdown",
      "source": [
        "문제 설명\n",
        "수많은 마라톤 선수들이 마라톤에 참여하였습니다. 단 한 명의 선수를 제외하고는 모든 선수가 마라톤을 완주하였습니다.\n",
        "\n",
        "마라톤에 참여한 선수들의 이름이 담긴 배열 participant와 완주한 선수들의 이름이 담긴 배열 completion이 주어질 때, 완주하지 못한 선수의 이름을 return 하도록 solution 함수를 작성해주세요.\n",
        "\n",
        "제한사항\n",
        "마라톤 경기에 참여한 선수의 수는 1명 이상 100,000명 이하입니다.\n",
        "completion의 길이는 participant의 길이보다 1 작습니다.\n",
        "참가자의 이름은 1개 이상 20개 이하의 알파벳 소문자로 이루어져 있습니다.\n",
        "참가자 중에는 동명이인이 있을 수 있습니다."
      ],
      "metadata": {
        "id": "lPElA-67sIF_"
      }
    },
    {
      "cell_type": "code",
      "source": [
        "def solution(participant, completion):\n",
        "    #동명이인이 실패자라면 pset과 cset이 같아져서\n",
        "    #실패자를 가려낼 수 없게 된다.\n",
        "    #민지민지 경서경서경서 장호 민수 처럼 동명이인의 쌍이 여러가지인 경우도 있다.\n",
        "    #그렇기 때문에 동명이인이라고 실패자인 것은 아니다.\n",
        "    \n",
        "    #각 항목에 대하여 p에서보다 c에서 1만큼 줄어든 항목이 실패자다.\n",
        "    #먼저 항목별로 잘 정리하는 것이 필요하다.\n",
        "    \n",
        "    #dictp & dictc구성 키:벨류 // 문자: 문자개수 //사람이름 :사람명수\n",
        "    \n",
        "    \n",
        "    setp=set(participant)\n",
        "    setc=set(completion)\n",
        "    \n",
        "    # 동명이인들이 한세트 이상 존재하며 동명이인들 중 한 명이 실패자인 경우\n",
        "    if setp==setc:\n",
        "        dictp={}\n",
        "        dictc={}\n",
        "        #dictp구성\n",
        "        for i in range(len(participant)):\n",
        "            if participant[i] in dictp:\n",
        "                dictp[participant[i]]+=1\n",
        "            else:    \n",
        "                dictp[participant[i]]=1\n",
        "\n",
        "                   \n",
        "        #dictc구성        \n",
        "        for i in range(len(completion)):\n",
        "            if completion[i] in dictc:\n",
        "                dictc[completion[i]]+=1\n",
        "            else:    \n",
        "                dictc[completion[i]]=1  \n",
        "                     \n",
        "        #문자열의 개수가 작은 놈이 범인!        \n",
        "        for i in set(participant):\n",
        "            if dictp[i]>dictc[i]:\n",
        "                answer=i\n",
        "                break\n",
        "\n",
        "        \n",
        "        \n",
        "    #동명이인이 아닌 사람이 실패자인 경우\n",
        "    else:\n",
        "        setf=setp-setc   \n",
        "        listf=list(setf)\n",
        "        answer=listf[0]\n",
        "        \n",
        "        \n",
        "    return answer"
      ],
      "metadata": {
        "id": "hrj8MUF9rfPz"
      },
      "execution_count": null,
      "outputs": []
    }
  ]
}